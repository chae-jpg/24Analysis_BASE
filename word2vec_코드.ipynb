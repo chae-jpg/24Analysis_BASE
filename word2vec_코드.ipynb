{
  "cells": [
    {
      "cell_type": "markdown",
      "metadata": {
        "id": "svwQ4ghXk6AH"
      },
      "source": [
        "# 한국어 Word2Vec 만들기(네이버 영화 리뷰)"
      ]
    },
    {
      "cell_type": "markdown",
      "metadata": {
        "id": "RYNDUaidFoSG"
      },
      "source": [
        "### 한글 폰트 설치 후 재시작"
      ]
    },
    {
      "cell_type": "code",
      "execution_count": 15,
      "metadata": {
        "colab": {
          "base_uri": "https://localhost:8080/"
        },
        "collapsed": true,
        "id": "lG-iuTzZF1U5",
        "outputId": "6ed221ef-481c-4b02-87b0-45a0328ee19e"
      },
      "outputs": [
        {
          "name": "stdout",
          "output_type": "stream",
          "text": [
            "\u001b[32m==>\u001b[0m \u001b[1mUpgrading 1 outdated package:\u001b[0m\n",
            "font-nanum-gothic latest -> latest\n",
            "\u001b[32m==>\u001b[0m \u001b[1mUpgrading \u001b[32mfont-nanum-gothic\u001b[39m\u001b[0m\n",
            "\u001b[34m==>\u001b[0m \u001b[1mCloning https://github.com/google/fonts.git\u001b[0m\n",
            "Updating /Users/cakenpeace/Library/Caches/Homebrew/Cask/font-nanum-gothic--git-sparse\n",
            "\u001b[34m==>\u001b[0m \u001b[1mChecking out branch main\u001b[0m\n",
            "Already on 'main'\n",
            "Your branch is up to date with 'origin/main'.\n",
            "HEAD is now at fc541cab Merge pull request #9089 from google/report-fix\n",
            "\u001b[34m==>\u001b[0m \u001b[1mBacking Font 'NanumGothic-Bold.ttf' up to '/opt/homebrew/Caskroom/font-nanum\u001b[0m\n",
            "\u001b[34m==>\u001b[0m \u001b[1mRemoving Font '/Users/cakenpeace/Library/Fonts/NanumGothic-Bold.ttf'\u001b[0m\n",
            "\u001b[34m==>\u001b[0m \u001b[1mBacking Font 'NanumGothic-ExtraBold.ttf' up to '/opt/homebrew/Caskroom/font-\u001b[0m\n",
            "\u001b[34m==>\u001b[0m \u001b[1mRemoving Font '/Users/cakenpeace/Library/Fonts/NanumGothic-ExtraBold.ttf'\u001b[0m\n",
            "\u001b[34m==>\u001b[0m \u001b[1mBacking Font 'NanumGothic-Regular.ttf' up to '/opt/homebrew/Caskroom/font-na\u001b[0m\n",
            "\u001b[34m==>\u001b[0m \u001b[1mRemoving Font '/Users/cakenpeace/Library/Fonts/NanumGothic-Regular.ttf'\u001b[0m\n",
            "\u001b[34m==>\u001b[0m \u001b[1mMoving Font 'NanumGothic-Bold.ttf' to '/Users/cakenpeace/Library/Fonts/Nanum\u001b[0m\n",
            "\u001b[34m==>\u001b[0m \u001b[1mMoving Font 'NanumGothic-ExtraBold.ttf' to '/Users/cakenpeace/Library/Fonts/\u001b[0m\n",
            "\u001b[34m==>\u001b[0m \u001b[1mMoving Font 'NanumGothic-Regular.ttf' to '/Users/cakenpeace/Library/Fonts/Na\u001b[0m\n",
            "\u001b[34m==>\u001b[0m \u001b[1mPurging files for version latest of Cask font-nanum-gothic\u001b[0m\n",
            "🍺  font-nanum-gothic was successfully upgraded!\n"
          ]
        }
      ],
      "source": [
        "!brew install --cask font-nanum-gothic"
      ]
    },
    {
      "cell_type": "code",
      "execution_count": 19,
      "metadata": {},
      "outputs": [
        {
          "data": {
            "text/plain": [
              "'/opt/anaconda3/lib/python3.9/site-packages/matplotlib/mpl-data/matplotlibrc'"
            ]
          },
          "execution_count": 19,
          "metadata": {},
          "output_type": "execute_result"
        }
      ],
      "source": [
        "import matplotlib\n",
        "matplotlib.matplotlib_fname()"
      ]
    },
    {
      "cell_type": "code",
      "execution_count": 17,
      "metadata": {
        "colab": {
          "base_uri": "https://localhost:8080/",
          "height": 333
        },
        "collapsed": true,
        "id": "bjpbmmrYFmN8",
        "outputId": "ed9fc9bd-86d3-4c17-c71c-e5af5943ff60"
      },
      "outputs": [
        {
          "name": "stdout",
          "output_type": "stream",
          "text": [
            "['NanumSquareRound', 'NanumSquareRound', 'NanumGothic', 'NanumSquareRound', 'NanumSquareRoundOTF', 'NanumSquareRoundOTF', 'NanumGothic', 'NanumSquareRoundOTF', 'NanumSquareRound', 'NanumGothic', 'NanumSquareRoundOTF']\n"
          ]
        },
        {
          "data": {
            "image/png": "[encoded data removed]",
            "text/plain": [
              "<Figure size 500x300 with 1 Axes>"
            ]
          },
          "metadata": {},
          "output_type": "display_data"
        }
      ],
      "source": [
        "# Matplotlib에서 한글 폰트 사용 설정\n",
        "import matplotlib.pyplot as plt\n",
        "import matplotlib.font_manager as fm\n",
        "\n",
        "plt.rc('font', family='NanumGothic')  # 나눔고딕으로 폰트 변경\n",
        "plt.rcParams['axes.unicode_minus'] = False  # 마이너스 기호 깨짐 방지\n",
        "\n",
        "# 폰트가 잘 적용되었는지 확인\n",
        "print([f.name for f in fm.fontManager.ttflist if 'Nanum' in f.name])\n",
        "\n",
        "plt.figure(figsize=(5,3))\n",
        "plt.text(0.5, 0.5, \"한글 테스트\", fontsize=15, ha='center', va='center')\n",
        "plt.show()"
      ]
    },
    {
      "cell_type": "markdown",
      "metadata": {
        "id": "6PT46-LxBiG5"
      },
      "source": [
        "## 1) 패키지 설치"
      ]
    },
    {
      "cell_type": "code",
      "execution_count": 3,
      "metadata": {
        "colab": {
          "base_uri": "https://localhost:8080/"
        },
        "collapsed": true,
        "id": "Dq8uhxhPApba",
        "outputId": "63850021-74f9-4a43-d9ac-ee2fad09c4a4"
      },
      "outputs": [],
      "source": [
        "\n",
        "\n",
        "import pandas as pd\n",
        "import matplotlib.pyplot as plt\n",
        "import urllib.request\n",
        "from gensim.models.word2vec import Word2Vec\n",
        "from konlpy.tag import Okt"
      ]
    },
    {
      "cell_type": "markdown",
      "metadata": {
        "id": "2yhUKvtFBqAa"
      },
      "source": [
        "## 2) 네이버 영화 리뷰 데이터를 다운로드"
      ]
    },
    {
      "cell_type": "code",
      "execution_count": 1,
      "metadata": {
        "colab": {
          "base_uri": "https://localhost:8080/"
        },
        "id": "h-hjAEJ0k5TX",
        "outputId": "1838c8ad-704e-4027-b348-c5d63f2d07d9"
      },
      "outputs": [
        {
          "ename": "NameError",
          "evalue": "name 'urllib' is not defined",
          "output_type": "error",
          "traceback": [
            "\u001b[0;31m---------------------------------------------------------------------------\u001b[0m",
            "\u001b[0;31mNameError\u001b[0m                                 Traceback (most recent call last)",
            "Cell \u001b[0;32mIn[1], line 1\u001b[0m\n\u001b[0;32m----> 1\u001b[0m \u001b[43murllib\u001b[49m\u001b[38;5;241m.\u001b[39mrequest\u001b[38;5;241m.\u001b[39murlretrieve(\u001b[38;5;124m\"\u001b[39m\u001b[38;5;124mhttps://raw.githubusercontent.com/e9t/nsmc/master/ratings.txt\u001b[39m\u001b[38;5;124m\"\u001b[39m, filename\u001b[38;5;241m=\u001b[39m\u001b[38;5;124m\"\u001b[39m\u001b[38;5;124mratings.txt\u001b[39m\u001b[38;5;124m\"\u001b[39m)\n",
            "\u001b[0;31mNameError\u001b[0m: name 'urllib' is not defined"
          ]
        }
      ],
      "source": [
        "urllib.request.urlretrieve(\"https://raw.githubusercontent.com/e9t/nsmc/master/ratings.txt\", filename=\"ratings.txt\")"
      ]
    },
    {
      "cell_type": "markdown",
      "metadata": {
        "id": "kf5GzGQ-BvoT"
      },
      "source": [
        "## 3) 네이버 영화 리뷰 데이터를 데이터프레임으로 로드하고 상위 5개의 행을 출력"
      ]
    },
    {
      "cell_type": "code",
      "execution_count": 4,
      "metadata": {
        "colab": {
          "base_uri": "https://localhost:8080/",
          "height": 206
        },
        "id": "g6Ipe7oOk-5V",
        "outputId": "646ee054-bedc-4af0-e777-abe066328dfc"
      },
      "outputs": [
        {
          "data": {
            "text/html": [
              "<div>\n",
              "<style scoped>\n",
              "    .dataframe tbody tr th:only-of-type {\n",
              "        vertical-align: middle;\n",
              "    }\n",
              "\n",
              "    .dataframe tbody tr th {\n",
              "        vertical-align: top;\n",
              "    }\n",
              "\n",
              "    .dataframe thead th {\n",
              "        text-align: right;\n",
              "    }\n",
              "</style>\n",
              "<table border=\"1\" class=\"dataframe\">\n",
              "  <thead>\n",
              "    <tr style=\"text-align: right;\">\n",
              "      <th></th>\n",
              "      <th>id</th>\n",
              "      <th>document</th>\n",
              "      <th>label</th>\n",
              "    </tr>\n",
              "  </thead>\n",
              "  <tbody>\n",
              "    <tr>\n",
              "      <th>0</th>\n",
              "      <td>8112052</td>\n",
              "      <td>어릴때보고 지금다시봐도 재밌어요ㅋㅋ</td>\n",
              "      <td>1</td>\n",
              "    </tr>\n",
              "    <tr>\n",
              "      <th>1</th>\n",
              "      <td>8132799</td>\n",
              "      <td>디자인을 배우는 학생으로, 외국디자이너와 그들이 일군 전통을 통해 발전해가는 문화산...</td>\n",
              "      <td>1</td>\n",
              "    </tr>\n",
              "    <tr>\n",
              "      <th>2</th>\n",
              "      <td>4655635</td>\n",
              "      <td>폴리스스토리 시리즈는 1부터 뉴까지 버릴께 하나도 없음.. 최고.</td>\n",
              "      <td>1</td>\n",
              "    </tr>\n",
              "    <tr>\n",
              "      <th>3</th>\n",
              "      <td>9251303</td>\n",
              "      <td>와.. 연기가 진짜 개쩔구나.. 지루할거라고 생각했는데 몰입해서 봤다.. 그래 이런...</td>\n",
              "      <td>1</td>\n",
              "    </tr>\n",
              "    <tr>\n",
              "      <th>4</th>\n",
              "      <td>10067386</td>\n",
              "      <td>안개 자욱한 밤하늘에 떠 있는 초승달 같은 영화.</td>\n",
              "      <td>1</td>\n",
              "    </tr>\n",
              "  </tbody>\n",
              "</table>\n",
              "</div>"
            ],
            "text/plain": [
              "         id                                           document  label\n",
              "0   8112052                                어릴때보고 지금다시봐도 재밌어요ㅋㅋ      1\n",
              "1   8132799  디자인을 배우는 학생으로, 외국디자이너와 그들이 일군 전통을 통해 발전해가는 문화산...      1\n",
              "2   4655635               폴리스스토리 시리즈는 1부터 뉴까지 버릴께 하나도 없음.. 최고.      1\n",
              "3   9251303  와.. 연기가 진짜 개쩔구나.. 지루할거라고 생각했는데 몰입해서 봤다.. 그래 이런...      1\n",
              "4  10067386                        안개 자욱한 밤하늘에 떠 있는 초승달 같은 영화.      1"
            ]
          },
          "execution_count": 4,
          "metadata": {},
          "output_type": "execute_result"
        }
      ],
      "source": [
        "train_data = pd.read_table('ratings.txt')\n",
        "\n",
        "train_data[:5] # 상위 5개 출력"
      ]
    },
    {
      "cell_type": "markdown",
      "metadata": {
        "id": "qerD7Z8fB0YH"
      },
      "source": [
        "## 4) 총 리뷰 개수를 확인"
      ]
    },
    {
      "cell_type": "code",
      "execution_count": 5,
      "metadata": {
        "colab": {
          "base_uri": "https://localhost:8080/"
        },
        "id": "pdyF3CbjlCno",
        "outputId": "11ef515a-6808-4ff6-edbb-841a706821e6"
      },
      "outputs": [
        {
          "name": "stdout",
          "output_type": "stream",
          "text": [
            "총 리뷰 개수 : 200000\n"
          ]
        }
      ],
      "source": [
        "print(f\"총 리뷰 개수 : {len(train_data)}\") # 리뷰 개수 출력"
      ]
    },
    {
      "cell_type": "markdown",
      "metadata": {
        "id": "1tq8L94qB_gn"
      },
      "source": [
        "## 5) 결측값 유무를 확인"
      ]
    },
    {
      "cell_type": "code",
      "execution_count": 6,
      "metadata": {
        "colab": {
          "base_uri": "https://localhost:8080/"
        },
        "id": "kA9WDYJflD4p",
        "outputId": "28bab7e6-f578-41ea-9509-42effccce9db"
      },
      "outputs": [
        {
          "name": "stdout",
          "output_type": "stream",
          "text": [
            "True\n"
          ]
        }
      ],
      "source": [
        "# NULL 값 존재 유무\n",
        "print(train_data.isnull().values.any())"
      ]
    },
    {
      "cell_type": "markdown",
      "metadata": {
        "id": "znXaEPkvCDNV"
      },
      "source": [
        "## 6) 결측값이 존재하는 행을 제거"
      ]
    },
    {
      "cell_type": "code",
      "execution_count": 7,
      "metadata": {
        "colab": {
          "base_uri": "https://localhost:8080/"
        },
        "id": "-CBy9pz2lFPf",
        "outputId": "2f8bf465-129d-4c7b-c32c-ef52dd7f866f"
      },
      "outputs": [
        {
          "name": "stdout",
          "output_type": "stream",
          "text": [
            "False\n"
          ]
        }
      ],
      "source": [
        "train_data = train_data.dropna(how = 'any') # Null 값이 존재하는 행 제거\n",
        "print(train_data.isnull().values.any()) # Null 값이 존재하는지 확인"
      ]
    },
    {
      "cell_type": "markdown",
      "metadata": {
        "id": "TZknoPrECFUf"
      },
      "source": [
        "## 7) 다시 총 리뷰 개수 확인"
      ]
    },
    {
      "cell_type": "code",
      "execution_count": 8,
      "metadata": {
        "colab": {
          "base_uri": "https://localhost:8080/"
        },
        "id": "qiyLpM-IlGQ_",
        "outputId": "95ee6579-3d50-4629-fa28-784ba8b6afec"
      },
      "outputs": [
        {
          "name": "stdout",
          "output_type": "stream",
          "text": [
            "총 리뷰 개수 : 199992\n"
          ]
        }
      ],
      "source": [
        "print(f\"총 리뷰 개수 : {len(train_data)}\") # 리뷰 개수 출력"
      ]
    },
    {
      "cell_type": "markdown",
      "metadata": {
        "id": "mj5WxYqDCN4b"
      },
      "source": [
        "## 8) 정규 표현식을 통해 한글이 아닌 경우 제거하는 전처리를 진행"
      ]
    },
    {
      "cell_type": "code",
      "execution_count": 9,
      "metadata": {
        "id": "bNWohQrMlHX3"
      },
      "outputs": [],
      "source": [
        "# 정규 표현식을 통한 한글 외 문자 제거\n",
        "train_data['document'] = train_data['document'].str.replace(\"[^ㄱ-ㅎㅏ-ㅣ가-힣 ]\",\"\", regex=True)"
      ]
    },
    {
      "cell_type": "code",
      "execution_count": 10,
      "metadata": {
        "colab": {
          "base_uri": "https://localhost:8080/",
          "height": 206
        },
        "id": "tdbikoyIlIog",
        "outputId": "1dab7ff5-0557-4920-f4a8-82e1901e0b14"
      },
      "outputs": [
        {
          "data": {
            "text/html": [
              "<div>\n",
              "<style scoped>\n",
              "    .dataframe tbody tr th:only-of-type {\n",
              "        vertical-align: middle;\n",
              "    }\n",
              "\n",
              "    .dataframe tbody tr th {\n",
              "        vertical-align: top;\n",
              "    }\n",
              "\n",
              "    .dataframe thead th {\n",
              "        text-align: right;\n",
              "    }\n",
              "</style>\n",
              "<table border=\"1\" class=\"dataframe\">\n",
              "  <thead>\n",
              "    <tr style=\"text-align: right;\">\n",
              "      <th></th>\n",
              "      <th>id</th>\n",
              "      <th>document</th>\n",
              "      <th>label</th>\n",
              "    </tr>\n",
              "  </thead>\n",
              "  <tbody>\n",
              "    <tr>\n",
              "      <th>0</th>\n",
              "      <td>8112052</td>\n",
              "      <td>어릴때보고 지금다시봐도 재밌어요ㅋㅋ</td>\n",
              "      <td>1</td>\n",
              "    </tr>\n",
              "    <tr>\n",
              "      <th>1</th>\n",
              "      <td>8132799</td>\n",
              "      <td>디자인을 배우는 학생으로 외국디자이너와 그들이 일군 전통을 통해 발전해가는 문화산업...</td>\n",
              "      <td>1</td>\n",
              "    </tr>\n",
              "    <tr>\n",
              "      <th>2</th>\n",
              "      <td>4655635</td>\n",
              "      <td>폴리스스토리 시리즈는 부터 뉴까지 버릴께 하나도 없음 최고</td>\n",
              "      <td>1</td>\n",
              "    </tr>\n",
              "    <tr>\n",
              "      <th>3</th>\n",
              "      <td>9251303</td>\n",
              "      <td>와 연기가 진짜 개쩔구나 지루할거라고 생각했는데 몰입해서 봤다 그래 이런게 진짜 영화지</td>\n",
              "      <td>1</td>\n",
              "    </tr>\n",
              "    <tr>\n",
              "      <th>4</th>\n",
              "      <td>10067386</td>\n",
              "      <td>안개 자욱한 밤하늘에 떠 있는 초승달 같은 영화</td>\n",
              "      <td>1</td>\n",
              "    </tr>\n",
              "  </tbody>\n",
              "</table>\n",
              "</div>"
            ],
            "text/plain": [
              "         id                                           document  label\n",
              "0   8112052                                어릴때보고 지금다시봐도 재밌어요ㅋㅋ      1\n",
              "1   8132799  디자인을 배우는 학생으로 외국디자이너와 그들이 일군 전통을 통해 발전해가는 문화산업...      1\n",
              "2   4655635                   폴리스스토리 시리즈는 부터 뉴까지 버릴께 하나도 없음 최고      1\n",
              "3   9251303   와 연기가 진짜 개쩔구나 지루할거라고 생각했는데 몰입해서 봤다 그래 이런게 진짜 영화지      1\n",
              "4  10067386                         안개 자욱한 밤하늘에 떠 있는 초승달 같은 영화      1"
            ]
          },
          "execution_count": 10,
          "metadata": {},
          "output_type": "execute_result"
        }
      ],
      "source": [
        "train_data[:5] # 상위 5개 출력"
      ]
    },
    {
      "cell_type": "markdown",
      "metadata": {
        "id": "cPw0CntbCSIM"
      },
      "source": [
        "## 9) 학습 시에 사용하고 싶지 않은 단어들인 불용어를 제거. 형태소 분석기 Okt를 사용하여 각 문장에 대해서 일종의 단어 내지는 형태소 단위로 나누는 토큰화를 수행"
      ]
    },
    {
      "cell_type": "code",
      "execution_count": 11,
      "metadata": {
        "colab": {
          "base_uri": "https://localhost:8080/"
        },
        "id": "zsFe6LKPlNmD",
        "outputId": "6b5d7ac2-fa0f-4ae4-9ded-faddaabfe248"
      },
      "outputs": [
        {
          "name": "stderr",
          "output_type": "stream",
          "text": [
            "100%|██████████| 199992/199992 [05:12<00:00, 639.36it/s]\n"
          ]
        }
      ],
      "source": [
        "from tqdm import tqdm\n",
        "\n",
        "# 불용어 정의\n",
        "stopwords = ['의','가','이','은','들','는','좀','잘','걍','과','도','를','으로','자','에','와','한','하다']\n",
        "\n",
        "# 형태소 분석기 OKT를 사용한 토큰화 작업 (다소 시간 소요)\n",
        "okt = Okt()\n",
        "\n",
        "tokenized_data = []\n",
        "for sentence in tqdm(train_data['document']):\n",
        "    tokenized_sentence = okt.morphs(sentence, stem=True) # 토큰화\n",
        "    stopwords_removed_sentence = [word for word in tokenized_sentence if not word in stopwords] # 불용어 제거\n",
        "    tokenized_data.append(stopwords_removed_sentence)\n"
      ]
    },
    {
      "cell_type": "markdown",
      "metadata": {
        "id": "NLFoBzeRCkPm"
      },
      "source": [
        "## 10) 각 리뷰의 길이 분포 시각화"
      ]
    },
    {
      "cell_type": "code",
      "execution_count": 12,
      "metadata": {
        "colab": {
          "base_uri": "https://localhost:8080/",
          "height": 483
        },
        "id": "tD9zznwiCjer",
        "outputId": "5b90315d-c923-493f-e5be-a300ff1a157f"
      },
      "outputs": [
        {
          "name": "stdout",
          "output_type": "stream",
          "text": [
            "리뷰의 최대 길이 : 72\n",
            "리뷰의 평균 길이 : 10.716703668146726\n"
          ]
        },
        {
          "data": {
            "image/png": "[encoded data removed]",
            "text/plain": [
              "<Figure size 640x480 with 1 Axes>"
            ]
          },
          "metadata": {},
          "output_type": "display_data"
        }
      ],
      "source": [
        "# 리뷰 길이 분포 확인\n",
        "print('리뷰의 최대 길이 :',max(len(review) for review in tokenized_data))\n",
        "print('리뷰의 평균 길이 :',sum(map(len, tokenized_data))/len(tokenized_data))\n",
        "plt.hist([len(review) for review in tokenized_data], bins=50)\n",
        "plt.xlabel('length of samples')\n",
        "plt.ylabel('number of samples')\n",
        "plt.show()"
      ]
    },
    {
      "cell_type": "markdown",
      "metadata": {
        "id": "5A90K2otCb1w"
      },
      "source": [
        "## 11) 토큰화 된 네이버 영화 리뷰 데이터로 Word2Vec 학습"
      ]
    },
    {
      "cell_type": "markdown",
      "metadata": {
        "id": "Zq0wMc9jDAbz"
      },
      "source": [
        "- vector_size = 워드 벡터의 특징 값. 즉, 임베딩 된 벡터의 차원.\n",
        "- window = 컨텍스트 윈도우 크기\n",
        "- min_count = 단어 최소 빈도 수 제한 (빈도가 적은 단어들은 학습하지 않는다.)\n",
        "- workers = 학습을 위한 프로세스 수\n",
        "- sg = 0은 CBOW, 1은 Skip-gram."
      ]
    },
    {
      "cell_type": "code",
      "execution_count": 13,
      "metadata": {
        "id": "6U7NO_nKlRv2"
      },
      "outputs": [],
      "source": [
        "from gensim.models import Word2Vec\n",
        "\n",
        "model = Word2Vec(sentences = tokenized_data, vector_size = 100, window = 5, min_count = 5, workers = 4, sg = 0)"
      ]
    },
    {
      "cell_type": "markdown",
      "metadata": {
        "id": "Y3SoQ-aRDK3e"
      },
      "source": [
        "## 12) 학습이 다 되었다면 Word2Vec 임베딩 행렬의 크기를 확인"
      ]
    },
    {
      "cell_type": "code",
      "execution_count": 14,
      "metadata": {
        "colab": {
          "base_uri": "https://localhost:8080/"
        },
        "id": "PZOPDqYOlUZG",
        "outputId": "5c860e2f-8258-4672-85a0-37cbb62fea0c"
      },
      "outputs": [
        {
          "data": {
            "text/plain": [
              "(16477, 100)"
            ]
          },
          "execution_count": 14,
          "metadata": {},
          "output_type": "execute_result"
        }
      ],
      "source": [
        "# 완성된 임베딩 매트릭스의 크기 확인\n",
        "model.wv.vectors.shape\n",
        "\n",
        "# 총 16,477개의 단어가 존재하며 각 단어는 100차원으로 구성되어져 있습니다."
      ]
    },
    {
      "cell_type": "code",
      "execution_count": 18,
      "metadata": {
        "colab": {
          "base_uri": "https://localhost:8080/",
          "height": 561
        },
        "id": "OcFJv2RoEMAm",
        "outputId": "9aa1b651-b031-4ec9-c70c-442bacaa4c6e"
      },
      "outputs": [
        {
          "data": {
            "image/png": "[encoded data removed]",
            "text/plain": [
              "<Figure size 800x600 with 1 Axes>"
            ]
          },
          "metadata": {},
          "output_type": "display_data"
        }
      ],
      "source": [
        "import numpy as np\n",
        "import matplotlib.pyplot as plt\n",
        "from sklearn.decomposition import PCA\n",
        "\n",
        "# '최민식'과 유사한 단어 10개 가져오기\n",
        "similar_words = model.wv.most_similar(\"최민식\", topn=10)\n",
        "words = [word for word, _ in similar_words]\n",
        "words.append(\"최민식\")  # 기준 단어도 포함\n",
        "\n",
        "# 해당 단어들의 벡터 추출\n",
        "word_vectors = np.array([model.wv[word] for word in words])\n",
        "\n",
        "# PCA 변환 (100차원 -> 2차원)\n",
        "pca = PCA(n_components=2)\n",
        "word_vectors_2d = pca.fit_transform(word_vectors)\n",
        "\n",
        "# 시각화\n",
        "plt.figure(figsize=(8, 6))\n",
        "plt.scatter(word_vectors_2d[:, 0], word_vectors_2d[:, 1], color='blue')\n",
        "\n",
        "# 각 포인트에 단어 라벨 추가\n",
        "for i, word in enumerate(words):\n",
        "    plt.annotate(word, (word_vectors_2d[i, 0], word_vectors_2d[i, 1]), fontsize=12)\n",
        "\n",
        "plt.xlabel('PCA 1')\n",
        "plt.ylabel('PCA 2')\n",
        "plt.title(\"'최민식'과 유사한 단어들의 PCA 임베딩 시각화\")\n",
        "plt.grid(True)\n",
        "plt.show()"
      ]
    }
  ],
  "metadata": {
    "colab": {
      "provenance": []
    },
    "kernelspec": {
      "display_name": "base",
      "language": "python",
      "name": "python3"
    },
    "language_info": {
      "codemirror_mode": {
        "name": "ipython",
        "version": 3
      },
      "file_extension": ".py",
      "mimetype": "text/x-python",
      "name": "python",
      "nbconvert_exporter": "python",
      "pygments_lexer": "ipython3",
      "version": "3.9.20"
    }
  },
  "nbformat": 4,
  "nbformat_minor": 0
}
